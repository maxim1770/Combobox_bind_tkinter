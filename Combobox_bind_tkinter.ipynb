{
 "cells": [
  {
   "cell_type": "markdown",
   "metadata": {},
   "source": []
  },
  {
   "cell_type": "code",
   "execution_count": null,
   "metadata": {},
   "outputs": [],
   "source": []
  },
  {
   "cell_type": "code",
   "execution_count": 8,
   "metadata": {},
   "outputs": [],
   "source": [
    "from tkinter import *\n",
    "from tkinter import ttk"
   ]
  },
  {
   "cell_type": "code",
   "execution_count": 9,
   "metadata": {},
   "outputs": [],
   "source": [
    "def change_color(event):\n",
    "    can[\"bg\"]=combo.get()\n",
    "\n",
    "root=Tk()\n",
    "\n",
    "root.title(\"Combobox\")\n",
    "root.geometry('500x500')\n",
    "\n",
    "combo=ttk.Combobox(root)\n",
    "combo['values'] = ('white','green', 'black', 'red', 'yellow', 'blue')\n",
    "combo.current(0)\n",
    "\n",
    "can=Canvas(width=200,height=200,bg=combo.get())\n",
    "\n",
    "\n",
    "combo.bind('<<ComboboxSelected>>',change_color)\n",
    "\n",
    "\n",
    "can.pack()\n",
    "combo.pack()\n",
    "\n",
    "\n",
    "root.mainloop()"
   ]
  }
 ],
 "metadata": {
  "kernelspec": {
   "display_name": "Python 3.9.7 ('base')",
   "language": "python",
   "name": "python3"
  },
  "language_info": {
   "codemirror_mode": {
    "name": "ipython",
    "version": 3
   },
   "file_extension": ".py",
   "mimetype": "text/x-python",
   "name": "python",
   "nbconvert_exporter": "python",
   "pygments_lexer": "ipython3",
   "version": "3.9.7"
  },
  "orig_nbformat": 4,
  "vscode": {
   "interpreter": {
    "hash": "1bc342da20f6f38dcb8ca582bfbdfa6235f2efb3475ada79a69f540a27e276eb"
   }
  }
 },
 "nbformat": 4,
 "nbformat_minor": 2
}
