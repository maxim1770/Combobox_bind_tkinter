{
 "cells": [
  {
   "cell_type": "markdown",
   "metadata": {},
   "source": [
    "### Условие фото:\n",
    "\n",
    "![лаба_python](https://user-images.githubusercontent.com/72470327/173553444-0e9a2223-a8af-4642-b86c-8af47967b8b5.png)\n",
    "\n",
    "***\n",
    "\n",
    "### Тема лабы:\n",
    "  **Темы:**\n",
    "\n",
    "  Графика в python, выбор из списка, динамическое изменение\n",
    "\n",
    "  **Используемые объекты:**\n",
    "  \n",
    "  Combobox, bind, tkinter (ttk), Canvas\n",
    "\n",
    "***\n",
    "\n",
    "### Комментарии к этой лабе (к решению этой лабы в этом проекте):\n",
    "\n",
    "  **все работает, все запускается**\n",
    "  \n",
    "  Интересный момент с combo.bind('<<ComboboxSelected>>',change_color) \n",
    "  \n",
    "  и соответсвенно как вызывается функция change_color\n",
    "\n",
    "***"
   ]
  },
  {
   "cell_type": "code",
   "execution_count": 8,
   "metadata": {},
   "outputs": [],
   "source": [
    "from tkinter import *\n",
    "from tkinter import ttk"
   ]
  },
  {
   "cell_type": "code",
   "execution_count": 11,
   "metadata": {},
   "outputs": [],
   "source": [
    "def change_color(event):\n",
    "    '''меняет цвет холста Canvas на выбранный на данный момент из списка Combobox'''\n",
    "    can[\"bg\"]=combo.get()\n",
    "\n",
    "root=Tk()\n",
    "\n",
    "root.title(\"Combobox\")\n",
    "root.geometry('500x500') #размер самого \n",
    "\n",
    "combo=ttk.Combobox(root) \n",
    "combo['values'] = ('white','green', 'black', 'red', 'yellow', 'blue')\n",
    "combo.current(0) #значение по умолчанию \"white\"\n",
    "\n",
    "can=Canvas(width=200,height=200,bg=combo.get()) #Canvas - холст\n",
    "\n",
    "\n",
    "combo.bind('<<ComboboxSelected>>',change_color)\n",
    "\n",
    "\n",
    "can.pack()\n",
    "combo.pack()\n",
    "\n",
    "\n",
    "root.mainloop()"
   ]
  }
 ],
 "metadata": {
  "kernelspec": {
   "display_name": "Python 3.9.7 ('base')",
   "language": "python",
   "name": "python3"
  },
  "language_info": {
   "codemirror_mode": {
    "name": "ipython",
    "version": 3
   },
   "file_extension": ".py",
   "mimetype": "text/x-python",
   "name": "python",
   "nbconvert_exporter": "python",
   "pygments_lexer": "ipython3",
   "version": "3.9.7"
  },
  "orig_nbformat": 4,
  "vscode": {
   "interpreter": {
    "hash": "1bc342da20f6f38dcb8ca582bfbdfa6235f2efb3475ada79a69f540a27e276eb"
   }
  }
 },
 "nbformat": 4,
 "nbformat_minor": 2
}
